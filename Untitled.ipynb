{
 "cells": [
  {
   "cell_type": "code",
   "execution_count": null,
   "id": "a072b4c5-8c24-4b86-a921-41a8ccb68272",
   "metadata": {},
   "outputs": [],
   "source": []
  }
 ],
 "metadata": {
  "kernelspec": {
   "display_name": "",
   "name": ""
  },
  "language_info": {
   "name": ""
  }
 },
 "nbformat": 4,
 "nbformat_minor": 5
}
